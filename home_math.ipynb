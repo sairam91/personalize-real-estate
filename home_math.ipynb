{
 "cells": [
  {
   "cell_type": "code",
   "execution_count": null,
   "metadata": {},
   "outputs": [],
   "source": [
    "import os\n",
    "\n",
    "os.environ[\"OPENAI_API_KEY\"] = \"\"\n",
    "os.environ[\"OPENAI_API_BASE\"] = \"https://openai.vocareum.com/v1\"\n",
    "\n",
    "from langchain.chat_models import ChatOpenAI\n",
    "from langchain_core.output_parsers import StrOutputParser\n",
    "from langchain_core.messages import HumanMessage, SystemMessage"
   ]
  },
  {
   "cell_type": "markdown",
   "metadata": {},
   "source": [
    "Syntetic Data Generation    "
   ]
  },
  {
   "cell_type": "code",
   "execution_count": 12,
   "metadata": {},
   "outputs": [
    {
     "name": "stdout",
     "output_type": "stream",
     "text": [
      "Generating descriptions for the homes\n"
     ]
    },
    {
     "data": {
      "text/plain": [
       "['5096aa82-45ff-4c09-a661-21678f8a67e8',\n",
       " '0e6bd6a3-6da3-4103-9bdd-346c15ab8cc6',\n",
       " 'd30f3cee-0dc7-4769-b446-cb7dda7605c9',\n",
       " '1d334419-212b-420d-81cc-87d9edf225f5',\n",
       " '8188411c-993e-4fbd-a338-423d62a2c57f',\n",
       " '12a5a780-1922-4e2a-9132-14e67a371fd5',\n",
       " '4ca24883-93e3-442b-88e5-1f31c8ef3a79',\n",
       " '320bf8f8-a684-453c-9d24-ed911cfb536f']"
      ]
     },
     "execution_count": 12,
     "metadata": {},
     "output_type": "execute_result"
    }
   ],
   "source": [
    "# Create a and initialize database with real estate listings\n",
    "import random\n",
    "from langchain_chroma import Chroma\n",
    "from langchain.embeddings.openai import OpenAIEmbeddings\n",
    "from langchain_core.documents import Document\n",
    "from uuid import uuid4\n",
    "\n",
    "locations = [\n",
    "    \"San Francisco\",\n",
    "    \"San Jose\", \n",
    "    \"Sunnyvale\", \n",
    "    \"Mountain View\",\n",
    "    \"Palo Alto\", \n",
    "    \"Santa Clara\", \n",
    "    \"Cupertino\", \n",
    "    \"Milpitas\"\n",
    "    \"Fremont\", \n",
    "]\n",
    "\n",
    "llm = ChatOpenAI(model=\"gpt-3.5-turbo\")\n",
    "\n",
    "embeddings = OpenAIEmbeddings()\n",
    "\n",
    "\n",
    "vectorstore = Chroma(\n",
    "    collection_name=\"example_collection\",\n",
    "    persist_directory=\"data\",\n",
    "    embedding_function=embeddings\n",
    ")\n",
    "\n",
    "parser = StrOutputParser()\n",
    "print(\"Generating descriptions for the homes\")\n",
    "documents = []\n",
    "\n",
    "\n",
    "for location in locations:\n",
    "    bedrooms = random.randint(2, 5)\n",
    "    bathrooms = random.randint(1, 3)\n",
    "    house_size = random.randint(1000, 3000)\n",
    "    price = random.randint(500000, 2000000)\n",
    "    messages = [\n",
    "        SystemMessage(f\"\"\"Generate a short description for the follwoing home. Please include detailed description of the home and surrounding area. The d\n",
    "                      description should include information on the locality, transportation options, and nearby amenities. Please include \n",
    "                      details about the schools and parks in the area as well.\"\"\"),\n",
    "        HumanMessage(f\"{bedrooms} bedroom, {bathrooms} bathroom house in {location} with {house_size} square feet for ${price}.\")\n",
    "    ]\n",
    "    response = llm.invoke(messages)\n",
    "    parser = StrOutputParser()\n",
    "    doc = Document(page_content=parser.invoke(response))\n",
    "    documents.append(doc)\n",
    "    \n",
    "\n",
    "uuids = [str(uuid4()) for _ in range(len(documents))]\n",
    "vectorstore.add_documents(documents=documents, ids=uuids)"
   ]
  },
  {
   "cell_type": "code",
   "execution_count": 13,
   "metadata": {},
   "outputs": [],
   "source": [
    "from langchain_core.prompts import ChatPromptTemplate, MessagesPlaceholder\n",
    "def create_prompt():\n",
    "    \"\"\"\n",
    "    Returns a prompt instructed to produce a rephrased question based on the user's\n",
    "    last question, but referencing previous messages (chat history).\n",
    "    \"\"\"\n",
    "    system_instruction = \"\"\"Given a chat history of the user retrive the most similar home listing.\"\"\"\n",
    "\n",
    "    prompt = ChatPromptTemplate.from_messages([\n",
    "        (\"system\", system_instruction),\n",
    "        MessagesPlaceholder(\"chat_history\"),\n",
    "        (\"human\", \"{input}\")])\n",
    "    return prompt"
   ]
  },
  {
   "cell_type": "code",
   "execution_count": 6,
   "metadata": {},
   "outputs": [],
   "source": [
    "from langchain.chains import create_history_aware_retriever\n",
    "\n",
    "history_aware_retriever = create_history_aware_retriever(\n",
    "    llm,\n",
    "    vectorstore.as_retriever(),\n",
    "    create_prompt()\n",
    ")"
   ]
  },
  {
   "cell_type": "code",
   "execution_count": 14,
   "metadata": {},
   "outputs": [
    {
     "name": "stdout",
     "output_type": "stream",
     "text": [
      "Chunk 1:\n",
      "This charming 4-bedroom, 2-bathroom house in San Jose offers 1389 square feet of living space for $1,048,681. Located in a peaceful residential neighborhood, this home features a spacious layout with plenty of natural light, a cozy living room, a modern kitchen with updated appliances, and a lovely backyard perfect for outdoor entertaining.\n",
      "\n",
      "The surrounding area is family-friendly and offers a variety of amenities. The neighborhood is known for its excellent schools, including top-rated public and private options. There are also several parks nearby, providing ample opportunities for outdoor recreation and picnics.\n",
      "\n",
      "For commuters, the location is convenient with easy access to major highways and public transportation options, making it a breeze to get around the city and beyond. Additionally, there are shopping centers, restaurants, and entertainment venues within a short drive, ensuring residents have everything they need right at their fingertips.\n",
      "\n",
      "Chunk 2:\n",
      "Welcome to this spacious 5-bedroom, 3-bathroom home in San Jose! Boasting 2557 square feet of living space, this property is ideal for families looking for room to grow. The home features a modern kitchen, a cozy living area, and a backyard perfect for outdoor entertaining.\n",
      "\n",
      "Located in San Jose, this home offers easy access to major highways for convenient commutes. The neighborhood is known for its excellent schools, such as top-rated public schools and prestigious private institutions. Nearby parks provide ample opportunities for outdoor activities and relaxation.\n",
      "\n",
      "In terms of amenities, residents can enjoy shopping and dining options just a short drive away. Public transportation options are also available for those looking to explore the vibrant city of San Jose. Don't miss the chance to make this beautiful home your own and enjoy all that this wonderful area has to offer!\n",
      "\n",
      "Chunk 3:\n",
      "Nestled in the charming city of Fremont, this 3-bedroom, 1-bathroom home offers a cozy retreat with 1923 square feet of living space. The property features a spacious layout with ample natural light, perfect for creating a warm and inviting atmosphere. \n",
      "\n",
      "Located in a peaceful neighborhood, residents will enjoy the convenience of nearby amenities such as grocery stores, restaurants, and shopping centers. Commuting is a breeze with easy access to major highways and public transportation options, making it simple to explore the Bay Area and beyond. \n",
      "\n",
      "Families will appreciate the proximity to top-rated schools in the area, providing quality education for children of all ages. Additionally, the neighborhood boasts several parks and recreational areas, ideal for outdoor activities and leisurely strolls. \n",
      "\n",
      "Don't miss the opportunity to make this lovely home in Fremont your own and experience the best of suburban living in the heart of Silicon Valley.\n",
      "\n",
      "Chunk 4:\n",
      "This stunning 2-bedroom, 3-bathroom house in Sunnyvale offers 1852 square feet of spacious living for $1,692,784. Located in a desirable neighborhood known for its peaceful ambiance and family-friendly atmosphere, this home is perfect for those seeking a blend of comfort and convenience.\n",
      "\n",
      "The locality boasts easy access to major highways, making commuting a breeze for residents. Nearby amenities include shopping centers, restaurants, and entertainment options, ensuring that everything you need is just a short drive away. \n",
      "\n",
      "Families with children will appreciate the top-rated schools in the area, providing quality education for students of all ages. Additionally, there are several parks and green spaces nearby, perfect for outdoor activities and leisurely strolls.\n",
      "\n",
      "Don't miss the opportunity to make this charming house in Sunnyvale your new home!\n",
      "\n"
     ]
    }
   ],
   "source": [
    "chat_history = [\n",
    "    ('ai', 'How big do you want your house to be?'),\n",
    "    ('human', 'A comfortable three-bedroom house with a spacious kitchen and a cozy living room.'),\n",
    "    ('ai', 'What are 3 most important things for you in choosing this property?'),\n",
    "    ('human', 'A quiet neighborhood, good local schools, and convenient shopping options.'),\n",
    "    ('ai', 'Which amenities would you like?'),\n",
    "    ('human', 'A backyard for gardening, a two-car garage, and a modern, energy-efficient heating system.'),\n",
    "    ('ai', 'Which transportation options are important to you?'),\n",
    "    ('human', 'Easy access to a reliable bus line, proximity to a major highway, and bike-friendly roads.'),\n",
    "    ('ai', 'How urban do you want your neighborhood to be?'),\n",
    "    ('human', 'A balance between suburban tranquility and access to urban amenities like restaurants and theaters.')\n",
    "]\n",
    "docs = history_aware_retriever.invoke({'input': 'Which home to recommend?', 'chat_history': chat_history})\n",
    "\n",
    "for i, doc in enumerate(docs):\n",
    "    print(f'Chunk {i+1}:')\n",
    "    print(doc.page_content)\n",
    "    print()"
   ]
  }
 ],
 "metadata": {
  "kernelspec": {
   "display_name": "Python 3",
   "language": "python",
   "name": "python3"
  },
  "language_info": {
   "codemirror_mode": {
    "name": "ipython",
    "version": 3
   },
   "file_extension": ".py",
   "mimetype": "text/x-python",
   "name": "python",
   "nbconvert_exporter": "python",
   "pygments_lexer": "ipython3",
   "version": "3.12.5"
  }
 },
 "nbformat": 4,
 "nbformat_minor": 2
}
